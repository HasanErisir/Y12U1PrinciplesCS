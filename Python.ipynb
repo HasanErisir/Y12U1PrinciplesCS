{
 "cells": [
  {
   "cell_type": "code",
   "execution_count": null,
   "metadata": {
    "collapsed": true
   },
   "outputs": [],
   "source": [
    "import random\n",
    "print (random.randint(0,6))"
   ]
  },
  {
   "cell_type": "code",
   "execution_count": null,
   "metadata": {
    "collapsed": true
   },
   "outputs": [],
   "source": [
    "from random import randint\n",
    "rolldice = input(\"do you want to roll the dice?\").lower()\n",
    "\n",
    "if rolldice == 'yes':\n",
    "    print (random.randint(0,6))\n",
    "    "
   ]
  },
  {
   "cell_type": "code",
   "execution_count": null,
   "metadata": {
    "collapsed": true
   },
   "outputs": [],
   "source": [
    "temp = int(input(\"what is the temperature right now?\"))\n",
    "if temp > 25:\n",
    "    print (\"you can wear shorts and a t-shirt\")\n",
    "elif temp < 25 and temp > 20:\n",
    "    print (\"you might want to wear a jacket\")\n",
    "elif temp < 15 or 10:\n",
    "    print (\"you might want to wear thick clothing as it is very cold\")\n",
    "    "
   ]
  },
  {
   "cell_type": "markdown",
   "metadata": {},
   "source": [
    "## Plan\n",
    "ask user for their a levels.\n",
    "check what subjects they can do\n",
    "print their subjects.\n",
    "\n",
    "INPUT maths \"did you do a level maths?\"\n",
    "INPUT biology \"did you do a level biology?\"\n",
    "INPUT computerScience \"did you do a level computerScience??\"\n",
    "\n",
    "if maths and biolgy and computer science = yes\n",
    "OUTPUT \"you can do all three subjects\"\n",
    "\n",
    "elif maths and computer science = yes\n",
    "OUTPUT \"you can study computer science at university\"\n",
    "elif computer science and biology = yes\n",
    "OUTPUT \"you can study computational biology at university\"\n",
    "elif biology and maths = yes\n",
    "OUTPUT \"you can study medicine in university\""
   ]
  },
  {
   "cell_type": "code",
   "execution_count": null,
   "metadata": {
    "collapsed": true
   },
   "outputs": [],
   "source": [
    "maths = input(\"did you do A-Level maths?\").lower()\n",
    "biology = input(\"did you do A-Level biology?\").lower()\n",
    "computerScience = input(\"did you do A-Level Computer Science?\").lower()\n",
    "\n",
    "if maths == 'yes' and biology == 'yes' and computerScience == 'yes':\n",
    "    print(\"you can do all three subjects at university.\")\n",
    "    \n",
    "elif maths == 'yes' and computerScience == 'yes':\n",
    "    print (\" you can study Computer Science in university.\")#\n",
    "elif computerScience == 'yes' and biology == 'yes':\n",
    "  print (\"you can study computational biology in university.\")\n",
    "elif biology == 'yes' and maths == 'yes':\n",
    "    print (\"you can study medicine in university\")\n",
    "else:\n",
    "  print (\"you cant study Computer science, Medicine and Computational Biology in university\")"
   ]
  },
  {
   "cell_type": "code",
   "execution_count": null,
   "metadata": {},
   "outputs": [],
   "source": [
    "for i in range(1,101):\n",
    "    print (i, \"*\", end=\"\")"
   ]
  },
  {
   "cell_type": "code",
   "execution_count": null,
   "metadata": {},
   "outputs": [],
   "source": [
    "m = input(\"enter your message\")\n",
    "print (m[::-1])"
   ]
  },
  {
   "cell_type": "code",
   "execution_count": null,
   "metadata": {
    "collapsed": true
   },
   "outputs": [],
   "source": [
    "def movie():\n",
    "    age = int(input(\"what is your age\"))\n",
    "    if age < 18:\n",
    "        adult = input(\"are you accompanied by an adult?#\").lower()\n",
    "        if adult == 'yes':\n",
    "            print (\"you may watch the movie\")\n",
    "        elif adult == 'no':\n",
    "            print (\"you cannot watch the movie\")\n",
    "        else:\n",
    "            print (\"please enter a valid response\")\n",
    "            \n",
    "    elif age > 18:\n",
    "        print (\"you may enter\")\n",
    "    "
   ]
  },
  {
   "cell_type": "code",
   "execution_count": null,
   "metadata": {
    "collapsed": true
   },
   "outputs": [],
   "source": [
    "gender = input(\"what is your gender?\").lower()\n",
    "pizza = input(\"do you like pizza?\").lower()\n",
    "\n",
    "if gender == 'male' and pizza == 'yes':\n",
    "    print (\"you can come to the party\")"
   ]
  },
  {
   "cell_type": "code",
   "execution_count": null,
   "metadata": {},
   "outputs": [],
   "source": [
    "m = input(\"enter your message\")\n",
    "print (m[::-1])"
   ]
  },
  {
   "cell_type": "code",
   "execution_count": null,
   "metadata": {},
   "outputs": [],
   "source": [
    "radius = 10\n",
    "pi = 365\n",
    "\n",
    "print ('{:d}'.format(radius))\n",
    "print ('{:f}'.format(pi))"
   ]
  },
  {
   "cell_type": "code",
   "execution_count": null,
   "metadata": {},
   "outputs": [],
   "source": [
    "val = 99\n",
    "char = 'H'\n",
    "\n",
    "x = ord(char)\n",
    "z = chr(val)\n",
    "print  ('{},  {},'.format(x,z))"
   ]
  },
  {
   "cell_type": "code",
   "execution_count": null,
   "metadata": {},
   "outputs": [],
   "source": [
    "val = int(input(\"what is your number?\"))\n",
    "\n",
    "x = chr(val)\n",
    "print (\"the ascii for that number is \",x)"
   ]
  },
  {
   "cell_type": "code",
   "execution_count": null,
   "metadata": {},
   "outputs": [],
   "source": [
    "char = str(input(\"what is your character?\"))\n",
    "\n",
    "x = ord(char)\n",
    "print (\"the number for your character is \", x)"
   ]
  },
  {
   "cell_type": "code",
   "execution_count": null,
   "metadata": {},
   "outputs": [],
   "source": [
    "message = input(\"enter a word\")\n",
    "[ord(c) for c in message]\n"
   ]
  },
  {
   "cell_type": "code",
   "execution_count": 13,
   "metadata": {},
   "outputs": [
    {
     "name": "stdout",
     "output_type": "stream",
     "text": [
      "Live long and prosper\n"
     ]
    }
   ],
   "source": [
    "numbers = [76,105,118,101,32,108,111,110,103,32,97,110,100,32,112,114,111,115,112,101,114]\n",
    "\n",
    "char = \"\".join([chr(c) for c in numbers])\n",
    "\n",
    "print (char)\n"
   ]
  },
  {
   "cell_type": "code",
   "execution_count": null,
   "metadata": {
    "collapsed": true
   },
   "outputs": [],
   "source": []
  }
 ],
 "metadata": {
  "kernelspec": {
   "display_name": "Python 3",
   "language": "python",
   "name": "python3"
  },
  "language_info": {
   "codemirror_mode": {
    "name": "ipython",
    "version": 3
   },
   "file_extension": ".py",
   "mimetype": "text/x-python",
   "name": "python",
   "nbconvert_exporter": "python",
   "pygments_lexer": "ipython3",
   "version": "3.5.2"
  }
 },
 "nbformat": 4,
 "nbformat_minor": 2
}
