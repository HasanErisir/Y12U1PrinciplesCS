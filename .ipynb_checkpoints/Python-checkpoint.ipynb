{
 "cells": [
  {
   "cell_type": "code",
   "execution_count": null,
   "metadata": {
    "collapsed": true
   },
   "outputs": [],
   "source": [
    "import random\n",
    "print (random.randint(0,6))"
   ]
  },
  {
   "cell_type": "code",
   "execution_count": null,
   "metadata": {
    "collapsed": true
   },
   "outputs": [],
   "source": [
    "from random import randint\n",
    "rolldice = input(\"do you want to roll the dice?\").lower()\n",
    "\n",
    "if rolldice == 'yes':\n",
    "    print (random.randint(0,6))\n",
    "    "
   ]
  },
  {
   "cell_type": "code",
   "execution_count": null,
   "metadata": {
    "collapsed": true
   },
   "outputs": [],
   "source": [
    "temp = int(input(\"what is the temperature right now?\"))\n",
    "if temp > 25:\n",
    "    print (\"you can wear shorts and a t-shirt\")\n",
    "elif temp < 25 and temp > 20:\n",
    "    print (\"you might want to wear a jacket\")\n",
    "elif temp < 15 or 10:\n",
    "    print (\"you might want to wear thick clothing as it is very cold\")\n",
    "    "
   ]
  },
  {
   "cell_type": "markdown",
   "metadata": {},
   "source": [
    "## Plan\n",
    "ask user for their a levels.\n",
    "check what subjects they can do\n",
    "print their subjects.\n",
    "\n",
    "INPUT maths \"did you do a level maths?\"\n",
    "INPUT biology \"did you do a level biology?\"\n",
    "INPUT computerScience \"did you do a level computerScience??\"\n",
    "\n",
    "if maths and biolgy and computer science = yes\n",
    "OUTPUT \"you can do all three subjects\"\n",
    "\n",
    "elif maths and computer science = yes\n",
    "OUTPUT \"you can study computer science at university\"\n",
    "elif computer science and biology = yes\n",
    "OUTPUT \"you can study computational biology at university\"\n",
    "elif biology and maths = yes\n",
    "OUTPUT \"you can study medicine in university\""
   ]
  },
  {
   "cell_type": "code",
   "execution_count": null,
   "metadata": {
    "collapsed": true
   },
   "outputs": [],
   "source": [
    "maths = input(\"did you do A-Level maths?\").lower()\n",
    "biology = input(\"did you do A-Level biology?\").lower()\n",
    "computerScience = input(\"did you do A-Level Computer Science?\").lower()\n",
    "\n",
    "if maths == 'yes' and biology == 'yes' and computerScience == 'yes':\n",
    "    print(\"you can do all three subjects at university.\")\n",
    "    \n",
    "elif maths == 'yes' and computerScience == 'yes':\n",
    "    print (\" you can study Computer Science in university.\")#\n",
    "elif computerScience == 'yes' and biology == 'yes':\n",
    "  print (\"you can study computational biology in university.\")\n",
    "elif biology == 'yes' and maths == 'yes':\n",
    "    print (\"you can study medicine in university\")\n",
    "else:\n",
    "  print (\"you cant study Computer science, Medicine and Computational Biology in university\")"
   ]
  },
  {
   "cell_type": "code",
   "execution_count": 6,
   "metadata": {},
   "outputs": [
    {
     "name": "stdout",
     "output_type": "stream",
     "text": [
      "1 *2 *3 *4 *5 *6 *7 *8 *9 *10 *11 *12 *13 *14 *15 *16 *17 *18 *19 *20 *21 *22 *23 *24 *25 *26 *27 *28 *29 *30 *31 *32 *33 *34 *35 *36 *37 *38 *39 *40 *41 *42 *43 *44 *45 *46 *47 *48 *49 *50 *51 *52 *53 *54 *55 *56 *57 *58 *59 *60 *61 *62 *63 *64 *65 *66 *67 *68 *69 *70 *71 *72 *73 *74 *75 *76 *77 *78 *79 *80 *81 *82 *83 *84 *85 *86 *87 *88 *89 *90 *91 *92 *93 *94 *95 *96 *97 *98 *99 *100 *"
     ]
    }
   ],
   "source": [
    "for i in range(1,101):\n",
    "    print (i, \"*\", end=\"\")"
   ]
  },
  {
   "cell_type": "code",
   "execution_count": null,
   "metadata": {},
   "outputs": [],
   "source": [
    "m = input(\"enter your message\")\n",
    "print (m[::-1])"
   ]
  },
  {
   "cell_type": "code",
   "execution_count": 3,
   "metadata": {},
   "outputs": [],
   "source": [
    "def movie():\n",
    "    age = int(input(\"what is your age\"))\n",
    "    if age < 18:\n",
    "        adult = input(\"are you accompanied by an adult?#\").lower()\n",
    "        if adult == 'yes':\n",
    "            print (\"you may watch the movie\")\n",
    "        elif adult == 'no':\n",
    "            print (\"you cannot watch the movie\")\n",
    "        else:\n",
    "            print (\"please enter a valid response\")\n",
    "            \n",
    "    elif age > 18:\n",
    "        print (\"you may enter\")\n",
    "    "
   ]
  },
  {
   "cell_type": "code",
   "execution_count": null,
   "metadata": {},
   "outputs": [],
   "source": [
    "gender = input(\"what is your gender?\").lower()\n",
    "pizza = input(\"do you like pizza?\").lower()\n",
    "\n",
    "if gender == 'male' and pizza == 'yes':\n",
    "    print (\"you can come to the party\")"
   ]
  },
  {
   "cell_type": "code",
   "execution_count": null,
   "metadata": {
    "collapsed": true
   },
   "outputs": [],
   "source": []
  }
 ],
 "metadata": {
  "kernelspec": {
   "display_name": "Python 3",
   "language": "python",
   "name": "python3"
  }
 },
 "nbformat": 4,
 "nbformat_minor": 2
}
